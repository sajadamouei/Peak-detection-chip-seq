{
  "cells": [
    {
      "cell_type": "markdown",
      "metadata": {
        "id": "view-in-github",
        "colab_type": "text"
      },
      "source": [
        "<a href=\"https://colab.research.google.com/github/sajadamouei/Peak-detection-chip-seq/blob/main/ML_Peaks.ipynb\" target=\"_parent\"><img src=\"https://colab.research.google.com/assets/colab-badge.svg\" alt=\"Open In Colab\"/></a>"
      ]
    },
    {
      "cell_type": "markdown",
      "metadata": {
        "id": "uv3yY7YEAHRV"
      },
      "source": [
        "## Framework Information"
      ]
    },
    {
      "cell_type": "code",
      "execution_count": null,
      "metadata": {
        "colab": {
          "base_uri": "https://localhost:8080/"
        },
        "id": "HCqpDpiDF4LP",
        "outputId": "bbce8cf2-6e08-4cde-ed34-a451c9a55934"
      },
      "outputs": [
        {
          "output_type": "stream",
          "name": "stdout",
          "text": [
            "Thu Jan 19 10:03:31 2023       \n",
            "+-----------------------------------------------------------------------------+\n",
            "| NVIDIA-SMI 460.32.03    Driver Version: 460.32.03    CUDA Version: 11.2     |\n",
            "|-------------------------------+----------------------+----------------------+\n",
            "| GPU  Name        Persistence-M| Bus-Id        Disp.A | Volatile Uncorr. ECC |\n",
            "| Fan  Temp  Perf  Pwr:Usage/Cap|         Memory-Usage | GPU-Util  Compute M. |\n",
            "|                               |                      |               MIG M. |\n",
            "|===============================+======================+======================|\n",
            "|   0  Tesla T4            Off  | 00000000:00:04.0 Off |                    0 |\n",
            "| N/A   58C    P0    29W /  70W |      0MiB / 15109MiB |      4%      Default |\n",
            "|                               |                      |                  N/A |\n",
            "+-------------------------------+----------------------+----------------------+\n",
            "                                                                               \n",
            "+-----------------------------------------------------------------------------+\n",
            "| Processes:                                                                  |\n",
            "|  GPU   GI   CI        PID   Type   Process name                  GPU Memory |\n",
            "|        ID   ID                                                   Usage      |\n",
            "|=============================================================================|\n",
            "|  No running processes found                                                 |\n",
            "+-----------------------------------------------------------------------------+\n"
          ]
        }
      ],
      "source": [
        "# GPU information\n",
        "#!nvidia-smi -L\n",
        "!nvidia-smi"
      ]
    },
    {
      "cell_type": "code",
      "execution_count": null,
      "metadata": {
        "colab": {
          "base_uri": "https://localhost:8080/"
        },
        "id": "MkGpBDPZAOa2",
        "outputId": "5e2801c9-9135-4a02-d0ce-fa1980b49f0c"
      },
      "outputs": [
        {
          "name": "stdout",
          "output_type": "stream",
          "text": [
            "Filesystem      Size  Used Avail Use% Mounted on\n",
            "overlay          79G   24G   56G  30% /\n",
            "tmpfs            64M     0   64M   0% /dev\n",
            "shm             5.7G     0  5.7G   0% /dev/shm\n",
            "/dev/root       2.0G  1.1G  910M  54% /sbin/docker-init\n",
            "/dev/sda1        50G   25G   26G  49% /opt/bin/.nvidia\n",
            "tmpfs           6.4G   32K  6.4G   1% /var/colab\n",
            "tmpfs           6.4G     0  6.4G   0% /proc/acpi\n",
            "tmpfs           6.4G     0  6.4G   0% /proc/scsi\n",
            "tmpfs           6.4G     0  6.4G   0% /sys/firmware\n",
            "drive            79G   26G   53G  34% /content/drive\n"
          ]
        }
      ],
      "source": [
        "# H.D.D information\n",
        "!df -h"
      ]
    },
    {
      "cell_type": "code",
      "execution_count": null,
      "metadata": {
        "colab": {
          "base_uri": "https://localhost:8080/"
        },
        "id": "mWuvLBTRFNqd",
        "outputId": "dd48e43d-8e47-4b36-f500-797bbd2b74a9"
      },
      "outputs": [
        {
          "output_type": "stream",
          "name": "stdout",
          "text": [
            "processor\t: 0\n",
            "vendor_id\t: GenuineIntel\n",
            "cpu family\t: 6\n",
            "model\t\t: 79\n",
            "model name\t: Intel(R) Xeon(R) CPU @ 2.20GHz\n",
            "stepping\t: 0\n",
            "microcode\t: 0xffffffff\n",
            "cpu MHz\t\t: 2199.998\n",
            "cache size\t: 56320 KB\n",
            "physical id\t: 0\n",
            "siblings\t: 4\n",
            "core id\t\t: 0\n",
            "cpu cores\t: 2\n",
            "apicid\t\t: 0\n",
            "initial apicid\t: 0\n",
            "fpu\t\t: yes\n",
            "fpu_exception\t: yes\n",
            "cpuid level\t: 13\n",
            "wp\t\t: yes\n",
            "flags\t\t: fpu vme de pse tsc msr pae mce cx8 apic sep mtrr pge mca cmov pat pse36 clflush mmx fxsr sse sse2 ss ht syscall nx pdpe1gb rdtscp lm constant_tsc rep_good nopl xtopology nonstop_tsc cpuid tsc_known_freq pni pclmulqdq ssse3 fma cx16 pcid sse4_1 sse4_2 x2apic movbe popcnt aes xsave avx f16c rdrand hypervisor lahf_lm abm 3dnowprefetch invpcid_single ssbd ibrs ibpb stibp fsgsbase tsc_adjust bmi1 hle avx2 smep bmi2 erms invpcid rtm rdseed adx smap xsaveopt arat md_clear arch_capabilities\n",
            "bugs\t\t: cpu_meltdown spectre_v1 spectre_v2 spec_store_bypass l1tf mds swapgs taa mmio_stale_data retbleed\n",
            "bogomips\t: 4399.99\n",
            "clflush size\t: 64\n",
            "cache_alignment\t: 64\n",
            "address sizes\t: 46 bits physical, 48 bits virtual\n",
            "power management:\n",
            "\n",
            "processor\t: 1\n",
            "vendor_id\t: GenuineIntel\n",
            "cpu family\t: 6\n",
            "model\t\t: 79\n",
            "model name\t: Intel(R) Xeon(R) CPU @ 2.20GHz\n",
            "stepping\t: 0\n",
            "microcode\t: 0xffffffff\n",
            "cpu MHz\t\t: 2199.998\n",
            "cache size\t: 56320 KB\n",
            "physical id\t: 0\n",
            "siblings\t: 4\n",
            "core id\t\t: 1\n",
            "cpu cores\t: 2\n",
            "apicid\t\t: 2\n",
            "initial apicid\t: 2\n",
            "fpu\t\t: yes\n",
            "fpu_exception\t: yes\n",
            "cpuid level\t: 13\n",
            "wp\t\t: yes\n",
            "flags\t\t: fpu vme de pse tsc msr pae mce cx8 apic sep mtrr pge mca cmov pat pse36 clflush mmx fxsr sse sse2 ss ht syscall nx pdpe1gb rdtscp lm constant_tsc rep_good nopl xtopology nonstop_tsc cpuid tsc_known_freq pni pclmulqdq ssse3 fma cx16 pcid sse4_1 sse4_2 x2apic movbe popcnt aes xsave avx f16c rdrand hypervisor lahf_lm abm 3dnowprefetch invpcid_single ssbd ibrs ibpb stibp fsgsbase tsc_adjust bmi1 hle avx2 smep bmi2 erms invpcid rtm rdseed adx smap xsaveopt arat md_clear arch_capabilities\n",
            "bugs\t\t: cpu_meltdown spectre_v1 spectre_v2 spec_store_bypass l1tf mds swapgs taa mmio_stale_data retbleed\n",
            "bogomips\t: 4399.99\n",
            "clflush size\t: 64\n",
            "cache_alignment\t: 64\n",
            "address sizes\t: 46 bits physical, 48 bits virtual\n",
            "power management:\n",
            "\n",
            "processor\t: 2\n",
            "vendor_id\t: GenuineIntel\n",
            "cpu family\t: 6\n",
            "model\t\t: 79\n",
            "model name\t: Intel(R) Xeon(R) CPU @ 2.20GHz\n",
            "stepping\t: 0\n",
            "microcode\t: 0xffffffff\n",
            "cpu MHz\t\t: 2199.998\n",
            "cache size\t: 56320 KB\n",
            "physical id\t: 0\n",
            "siblings\t: 4\n",
            "core id\t\t: 0\n",
            "cpu cores\t: 2\n",
            "apicid\t\t: 1\n",
            "initial apicid\t: 1\n",
            "fpu\t\t: yes\n",
            "fpu_exception\t: yes\n",
            "cpuid level\t: 13\n",
            "wp\t\t: yes\n",
            "flags\t\t: fpu vme de pse tsc msr pae mce cx8 apic sep mtrr pge mca cmov pat pse36 clflush mmx fxsr sse sse2 ss ht syscall nx pdpe1gb rdtscp lm constant_tsc rep_good nopl xtopology nonstop_tsc cpuid tsc_known_freq pni pclmulqdq ssse3 fma cx16 pcid sse4_1 sse4_2 x2apic movbe popcnt aes xsave avx f16c rdrand hypervisor lahf_lm abm 3dnowprefetch invpcid_single ssbd ibrs ibpb stibp fsgsbase tsc_adjust bmi1 hle avx2 smep bmi2 erms invpcid rtm rdseed adx smap xsaveopt arat md_clear arch_capabilities\n",
            "bugs\t\t: cpu_meltdown spectre_v1 spectre_v2 spec_store_bypass l1tf mds swapgs taa mmio_stale_data retbleed\n",
            "bogomips\t: 4399.99\n",
            "clflush size\t: 64\n",
            "cache_alignment\t: 64\n",
            "address sizes\t: 46 bits physical, 48 bits virtual\n",
            "power management:\n",
            "\n",
            "processor\t: 3\n",
            "vendor_id\t: GenuineIntel\n",
            "cpu family\t: 6\n",
            "model\t\t: 79\n",
            "model name\t: Intel(R) Xeon(R) CPU @ 2.20GHz\n",
            "stepping\t: 0\n",
            "microcode\t: 0xffffffff\n",
            "cpu MHz\t\t: 2199.998\n",
            "cache size\t: 56320 KB\n",
            "physical id\t: 0\n",
            "siblings\t: 4\n",
            "core id\t\t: 1\n",
            "cpu cores\t: 2\n",
            "apicid\t\t: 3\n",
            "initial apicid\t: 3\n",
            "fpu\t\t: yes\n",
            "fpu_exception\t: yes\n",
            "cpuid level\t: 13\n",
            "wp\t\t: yes\n",
            "flags\t\t: fpu vme de pse tsc msr pae mce cx8 apic sep mtrr pge mca cmov pat pse36 clflush mmx fxsr sse sse2 ss ht syscall nx pdpe1gb rdtscp lm constant_tsc rep_good nopl xtopology nonstop_tsc cpuid tsc_known_freq pni pclmulqdq ssse3 fma cx16 pcid sse4_1 sse4_2 x2apic movbe popcnt aes xsave avx f16c rdrand hypervisor lahf_lm abm 3dnowprefetch invpcid_single ssbd ibrs ibpb stibp fsgsbase tsc_adjust bmi1 hle avx2 smep bmi2 erms invpcid rtm rdseed adx smap xsaveopt arat md_clear arch_capabilities\n",
            "bugs\t\t: cpu_meltdown spectre_v1 spectre_v2 spec_store_bypass l1tf mds swapgs taa mmio_stale_data retbleed\n",
            "bogomips\t: 4399.99\n",
            "clflush size\t: 64\n",
            "cache_alignment\t: 64\n",
            "address sizes\t: 46 bits physical, 48 bits virtual\n",
            "power management:\n",
            "\n"
          ]
        }
      ],
      "source": [
        "# CPU infoemation\n",
        "!cat /proc/cpuinfo"
      ]
    },
    {
      "cell_type": "code",
      "execution_count": null,
      "metadata": {
        "colab": {
          "base_uri": "https://localhost:8080/"
        },
        "id": "6ozdP9dUFXXn",
        "outputId": "9203b77f-fc1e-4f67-f56d-ba2c36e9da2b"
      },
      "outputs": [
        {
          "name": "stdout",
          "output_type": "stream",
          "text": [
            "MemTotal:       13297228 kB\n",
            "MemFree:         7024464 kB\n",
            "MemAvailable:   10113068 kB\n",
            "Buffers:           66460 kB\n",
            "Cached:          2626964 kB\n",
            "SwapCached:            0 kB\n",
            "Active:           684720 kB\n",
            "Inactive:        5324808 kB\n",
            "Active(anon):       1016 kB\n",
            "Inactive(anon):  2727712 kB\n",
            "Active(file):     683704 kB\n",
            "Inactive(file):  2597096 kB\n",
            "Unevictable:           0 kB\n",
            "Mlocked:               0 kB\n",
            "SwapTotal:             0 kB\n",
            "SwapFree:              0 kB\n",
            "Dirty:               772 kB\n",
            "Writeback:             0 kB\n",
            "AnonPages:       3316160 kB\n",
            "Mapped:           289400 kB\n",
            "Shmem:              1288 kB\n",
            "KReclaimable:      98512 kB\n",
            "Slab:             134880 kB\n",
            "SReclaimable:      98512 kB\n",
            "SUnreclaim:        36368 kB\n",
            "KernelStack:        5968 kB\n",
            "PageTables:        33208 kB\n",
            "NFS_Unstable:          0 kB\n",
            "Bounce:                0 kB\n",
            "WritebackTmp:          0 kB\n",
            "CommitLimit:     6648612 kB\n",
            "Committed_AS:    5822256 kB\n",
            "VmallocTotal:   34359738367 kB\n",
            "VmallocUsed:       50560 kB\n",
            "VmallocChunk:          0 kB\n",
            "Percpu:             1416 kB\n",
            "HardwareCorrupted:     0 kB\n",
            "AnonHugePages:    118784 kB\n",
            "ShmemHugePages:        0 kB\n",
            "ShmemPmdMapped:        0 kB\n",
            "FileHugePages:         0 kB\n",
            "FilePmdMapped:         0 kB\n",
            "CmaTotal:              0 kB\n",
            "CmaFree:               0 kB\n",
            "HugePages_Total:       0\n",
            "HugePages_Free:        0\n",
            "HugePages_Rsvd:        0\n",
            "HugePages_Surp:        0\n",
            "Hugepagesize:       2048 kB\n",
            "Hugetlb:               0 kB\n",
            "DirectMap4k:      140096 kB\n",
            "DirectMap2M:     4050944 kB\n",
            "DirectMap1G:    11534336 kB\n"
          ]
        }
      ],
      "source": [
        "# Memory information\n",
        "!cat /proc/meminfo"
      ]
    },
    {
      "cell_type": "code",
      "execution_count": null,
      "metadata": {
        "colab": {
          "base_uri": "https://localhost:8080/"
        },
        "id": "9CSRnUyWAGVK",
        "outputId": "842c3380-99aa-40c5-c27f-e6ba8007cd72"
      },
      "outputs": [
        {
          "output_type": "stream",
          "name": "stdout",
          "text": [
            "python version=  3.8.10 (default, Nov 14 2022, 12:59:47) \n",
            "[GCC 9.4.0]\n",
            "tf version=  2.11.0\n",
            "keras version=  2.11.0\n"
          ]
        }
      ],
      "source": [
        "import sys\n",
        "print('python version= ',sys.version)\n",
        "import tensorflow as tf\n",
        "print('tf version= ',tf.__version__)\n",
        "import keras\n",
        "print('keras version= ',keras.__version__)"
      ]
    },
    {
      "cell_type": "code",
      "source": [
        "import pkg_resources\n",
        "\n",
        "pkg_resources.get_distribution(\"google-colab\").version"
      ],
      "metadata": {
        "colab": {
          "base_uri": "https://localhost:8080/"
        },
        "id": "nS5uSZi0NEaK",
        "outputId": "102657a0-e54a-43b2-a2da-cab582f33315"
      },
      "execution_count": null,
      "outputs": [
        {
          "output_type": "execute_result",
          "data": {
            "text/plain": [
              "'1.0.0'"
            ],
            "application/vnd.google.colaboratory.intrinsic+json": {
              "type": "string"
            }
          },
          "metadata": {},
          "execution_count": 1
        }
      ]
    },
    {
      "cell_type": "code",
      "source": [
        "import sklearn\n",
        "print(sklearn.__version__)"
      ],
      "metadata": {
        "colab": {
          "base_uri": "https://localhost:8080/"
        },
        "id": "sQU-6wQwUdul",
        "outputId": "3b8f638f-b9e9-4b24-b16a-59e572ed33be"
      },
      "execution_count": null,
      "outputs": [
        {
          "output_type": "stream",
          "name": "stdout",
          "text": [
            "1.2.2\n"
          ]
        }
      ]
    },
    {
      "cell_type": "markdown",
      "metadata": {
        "id": "UedRhO3-fdqo"
      },
      "source": [
        "# Folders tree diagrams and display .bed and .bedgraph files"
      ]
    },
    {
      "cell_type": "code",
      "execution_count": null,
      "metadata": {
        "colab": {
          "base_uri": "https://localhost:8080/"
        },
        "id": "JI1A5_ToEKAp",
        "outputId": "a99ed760-331e-47d3-98f1-7d0633dc05e7"
      },
      "outputs": [
        {
          "name": "stdout",
          "output_type": "stream",
          "text": [
            "Looking in indexes: https://pypi.org/simple, https://us-python.pkg.dev/colab-wheels/public/simple/\n",
            "Collecting seedir\n",
            "  Downloading seedir-0.3.1-py3-none-any.whl (114 kB)\n",
            "\u001b[K     |████████████████████████████████| 114 kB 4.2 MB/s \n",
            "\u001b[?25hRequirement already satisfied: natsort in /usr/local/lib/python3.7/dist-packages (from seedir) (5.5.0)\n",
            "Collecting emoji\n",
            "  Downloading emoji-2.0.0.tar.gz (197 kB)\n",
            "\u001b[K     |████████████████████████████████| 197 kB 29.4 MB/s \n",
            "\u001b[?25hBuilding wheels for collected packages: emoji\n",
            "  Building wheel for emoji (setup.py) ... \u001b[?25l\u001b[?25hdone\n",
            "  Created wheel for emoji: filename=emoji-2.0.0-py3-none-any.whl size=193022 sha256=b828f08ade7641c0ada5bc1d8d42f8ec8c58836f45ef0a39d3eb79897fd23304\n",
            "  Stored in directory: /root/.cache/pip/wheels/ec/29/4d/3cfe7452ac7d8d83b1930f8a6205c3c9649b24e80f9029fc38\n",
            "Successfully built emoji\n",
            "Installing collected packages: emoji, seedir\n",
            "Successfully installed emoji-2.0.0 seedir-0.3.1\n"
          ]
        }
      ],
      "source": [
        "!pip install seedir"
      ]
    },
    {
      "cell_type": "code",
      "execution_count": null,
      "metadata": {
        "colab": {
          "base_uri": "https://localhost:8080/"
        },
        "id": "qg7yIot2Eids",
        "outputId": "d09e2c54-5e99-4e0d-9bf3-166ab94affe7"
      },
      "outputs": [
        {
          "name": "stdout",
          "output_type": "stream",
          "text": [
            "📁 content/\n",
            "├─📁 .config/\n",
            "│ ├─📁 configurations/\n",
            "│ │ └─📄 config_default\n",
            "│ ├─📄 .last_update_check.json\n",
            "│ ├─📄 active_config\n",
            "│ ├─📄 .last_opt_in_prompt.yaml\n",
            "│ ├─📄 .last_survey_prompt.yaml\n",
            "│ ├─📄 gce\n",
            "│ ├─📄 config_sentinel\n",
            "│ └─📁 logs/\n",
            "│   └─📁 2022.08.15/\n",
            "│     ├─📄 13.44.41.125604.log\n",
            "│     ├─📄 13.43.53.840714.log\n",
            "│     ├─📄 13.44.40.370262.log\n",
            "│     ├─📄 13.44.20.441098.log\n",
            "│     ├─📄 13.44.12.999341.log\n",
            "│     └─📄 13.43.32.260465.log\n",
            "└─📁 sample_data/\n",
            "  ├─📄 anscombe.json\n",
            "  ├─📄 README.md\n",
            "  ├─📄 california_housing_test.csv\n",
            "  ├─📄 california_housing_train.csv\n",
            "  ├─📄 mnist_test.csv\n",
            "  └─📄 mnist_train_small.csv\n"
          ]
        }
      ],
      "source": [
        "import seedir as sd\n",
        "sd.seedir('/content', style='emoji')"
      ]
    },
    {
      "cell_type": "code",
      "execution_count": null,
      "metadata": {
        "id": "ax7GjVL1o8BQ"
      },
      "outputs": [],
      "source": [
        "#Compare with bcell\n",
        "content = []\n",
        "with open(\"/content/drive/MyDrive/PhD/1-DEDProject/3-Chip-seq/H3K9me3_TDH_BP/samples/bcell/ERS206573/problems/chr4_68270000-75427379/coverage.bedGraph\")as f:\n",
        "    for line in f:\n",
        "        content.append(line.strip().split())\n",
        "\n",
        "content"
      ]
    },
    {
      "cell_type": "code",
      "execution_count": null,
      "metadata": {
        "colab": {
          "base_uri": "https://localhost:8080/"
        },
        "id": "7y452Hd6jDe-",
        "outputId": "fab0ee02-f40b-47b9-9129-9d303699fb07"
      },
      "outputs": [
        {
          "output_type": "execute_result",
          "data": {
            "text/plain": [
              "[['chr6', '74026739', '74033802', 'peakEnd'],\n",
              " ['chr6', '74036062', '74064918', 'noPeaks'],\n",
              " ['chr6', '74080861', '74086466', 'peakEnd'],\n",
              " ['chr6', '74086776', '74137477', 'noPeaks']]"
            ]
          },
          "metadata": {},
          "execution_count": 3
        }
      ],
      "source": [
        "content = []\n",
        "with open(\"/content/labels.bed\")as f:\n",
        "    for line in f:\n",
        "        content.append(line.strip().split())\n",
        "\n",
        "content"
      ]
    },
    {
      "cell_type": "markdown",
      "metadata": {
        "id": "RfZvMyyqHISf"
      },
      "source": [
        "# Extract and Decode the H3K9me3_TDH_BP ChIP-seq dataset"
      ]
    },
    {
      "cell_type": "code",
      "execution_count": null,
      "metadata": {
        "id": "-PXjvfeAqj2o"
      },
      "outputs": [],
      "source": [
        "# find subfolders and extract .gz files in the chip-seq dataset\n",
        "\n",
        "import os, gzip, shutil\n",
        "\n",
        "z=0\n",
        "o=0\n",
        "def gz_extract(directory):\n",
        "    extension = \".gz\"\n",
        "    os.chdir(directory)\n",
        "    for item in os.listdir(directory): # loop through items in dir\n",
        "      if item.endswith(extension): # check for \".gz\" extension\n",
        "          gz_name = os.path.abspath(item) # get full path of files\n",
        "          file_name = (os.path.basename(gz_name)).rsplit('.',1)[0] #get file name for file within\n",
        "          with gzip.open(gz_name,\"rb\") as f_in, open(file_name,\"wb\") as f_out:\n",
        "              shutil.copyfileobj(f_in, f_out)\n",
        "#          os.remove(gz_name) # delete zipped file\n",
        "\n",
        "\n",
        "\n",
        "\n",
        "for path, subdirs, files in os.walk('/content/drive/MyDrive/PhD/1-DEDProject/3-Chip-seq/H3K9me3_TDH_BP/samples'):\n",
        "    for name in files:\n",
        "      if (z%2) == 0:\n",
        "        print(os.path.join(path))\n",
        "        gz_extract(os.path.join(path))\n",
        "        o+=1\n",
        "      z+=1\n",
        "\n",
        "print('Number of files = ',z)\n",
        "print('Number of files extracted = ', o)"
      ]
    },
    {
      "cell_type": "code",
      "execution_count": null,
      "metadata": {
        "id": "EMv1PnUS6y3_"
      },
      "outputs": [],
      "source": [
        "import os\n",
        "\n",
        "lst_ad = []\n",
        "num = 0\n",
        "co = 0\n",
        "\n",
        "for path, subdirs, files in os.walk('C:/Users/47966/Desktop/delete/chip/H3K9me3_TDH_BP/samples'):\n",
        "    for name in files:\n",
        "        if (co%2) == 0:\n",
        "            lst_ad.append(os.path.join(path))\n",
        "            num+=1\n",
        "        co+=1\n",
        "\n",
        "print('Number of folders = ', num)"
      ]
    },
    {
      "cell_type": "code",
      "execution_count": null,
      "metadata": {
        "id": "bpbMmcKO678a"
      },
      "outputs": [],
      "source": [
        "# Decode coverage.bedgraph files\n",
        "\n",
        "import numpy as np\n",
        "import os\n",
        "\n",
        "   \n",
        "    \n",
        "f_data = []\n",
        "    \n",
        "for l in range(len(lst_ad)): # Read the coverage and label files\n",
        "    coverage = []\n",
        "    with open(os.path.join(lst_ad[l],\"coverage.bedGraph\"))as f:\n",
        "        for line in f:\n",
        "            coverage.append(line.strip().split())\n",
        "\n",
        "    labels = []\n",
        "    with open(os.path.join(lst_ad[l],\"labels.bed\"))as f:\n",
        "        for line in f:\n",
        "            labels.append(line.strip().split())\n",
        "        \n",
        "    n = int(coverage[len(coverage)-1][2]) # Last genomic position number\n",
        "    m = int(coverage[0][1]) # First genomic position number\n",
        "\n",
        "    data = np.zeros(shape=(2,n-m)) # One array for each coverage file\n",
        "\n",
        "    count = 0\n",
        "\n",
        "    for i in range(len(coverage)): # Decode the encoded coverage file in a 2D arry\n",
        "        for j in range(int(coverage[i][2])-int(coverage[i][1])):\n",
        "            data[0,count] = int(coverage[i][1]) + j + 1\n",
        "            data[1,count] = int(coverage[i][3])\n",
        "            count += 1\n",
        "        \n",
        "    for i in range(len(labels)): # Save the labeled parts of coverage file based label file from the 2D array\n",
        "            \n",
        "        t, s_point = np.where(data == int(labels[i][1]))\n",
        "        t, e_point = np.where(data == int(labels[i][2]))\n",
        "        s_point = int(s_point)-5000 # Pick the labelled sequence with addtional  5000 lenght before start point\n",
        "        e_point = int(e_point)+5000 # Pick the labelled sequence with addtional  5000 lenght after end point\n",
        "        \n",
        "        f_data.append(coverage[0][0])\n",
        "        f_data.append(list(data[1,s_point:e_point]))\n",
        "        f_data.append(labels[i][3])\n",
        "\n",
        "    print(l)"
      ]
    },
    {
      "cell_type": "code",
      "execution_count": null,
      "metadata": {
        "id": "ezvmO7YI7B2S"
      },
      "outputs": [],
      "source": [
        "import pickle # Save decoded and labeled dataset in a list .ob file\n",
        "with open('C:/Users/47966/Desktop/delete/chip/f_data2.ob', 'wb') as fp:\n",
        "    pickle.dump(f_data, fp)"
      ]
    },
    {
      "cell_type": "markdown",
      "source": [
        "# Plot of a coverage.bedgraph file"
      ],
      "metadata": {
        "id": "tiWiiUBnaj0Q"
      }
    },
    {
      "cell_type": "code",
      "source": [
        "import numpy as np\n",
        "# read data from the file\n",
        "data = np.loadtxt('/content/coverage.bedGraph', usecols=(1, 2, 3))\n",
        "\n",
        "# plot the \n",
        "fig = plt.figure(figsize=(10, 6))\n",
        "plt.plot(data[:, 0], data[:, 2], color='blue')\n",
        "plt.xlabel('Genomic Position')\n",
        "plt.ylabel('Coverage')\n",
        "plt.title('Coverage Plot')\n",
        "\n",
        "# show the plot\n",
        "plt.show()"
      ],
      "metadata": {
        "colab": {
          "base_uri": "https://localhost:8080/",
          "height": 404
        },
        "id": "RaWjU52xF9cR",
        "outputId": "7f3651c9-b3e0-4883-fb21-25f1b0d9c1c3"
      },
      "execution_count": null,
      "outputs": [
        {
          "output_type": "display_data",
          "data": {
            "text/plain": [
              "<Figure size 720x432 with 1 Axes>"
            ],
            "image/png": "[encoded data removed]"
          },
          "metadata": {
            "needs_background": "light"
          }
        }
      ]
    },
    {
      "cell_type": "code",
      "source": [
        "# read data from the file\n",
        "data = np.loadtxt('/content/coverage.bedGraph', usecols=(1, 2, 3))\n",
        "\n",
        "# subset data to the specific genomic region\n",
        "start_pos = 77210375\n",
        "end_pos = 77267036\n",
        "mask = (data[:, 0] >= start_pos) & (data[:, 0] <= end_pos)\n",
        "data = data[mask, :]\n",
        "\n",
        "# create a new figure with a larger size\n",
        "fig = plt.figure(figsize=(12, 3))\n",
        "\n",
        "# plot the data\n",
        "plt.plot(data[:, 0], data[:, 2], color='blue')\n",
        "plt.xlabel('Genomic Position')\n",
        "plt.ylabel('Coverage')\n",
        "plt.title('Coverage Plot')\n",
        "\n",
        "plt.axvspan(77222375, 77232602, alpha=0.2, color='red')\n",
        "plt.axvspan(77232603, 77238871, alpha=0.2, color='green')\n",
        "plt.axvspan(77245799, 77255036, alpha=0.2, color='green')\n",
        "\n",
        "# show the plot\n",
        "plt.show()"
      ],
      "metadata": {
        "colab": {
          "base_uri": "https://localhost:8080/",
          "height": 241
        },
        "id": "4-P--SnyKIxs",
        "outputId": "eca7e33c-7b5e-488c-f471-4781c02615e1"
      },
      "execution_count": null,
      "outputs": [
        {
          "output_type": "display_data",
          "data": {
            "text/plain": [
              "<Figure size 864x216 with 1 Axes>"
            ],
            "image/png": "[encoded data removed]"
          },
          "metadata": {
            "needs_background": "light"
          }
        }
      ]
    },
    {
      "cell_type": "markdown",
      "metadata": {
        "id": "bBMMh4s98lMD"
      },
      "source": [
        "# Load decoded data and Pre-processing"
      ]
    },
    {
      "cell_type": "code",
      "source": [
        "# Download the decoded H3K9me3\\_TDH\\_BP ChIP-seq dataset from google drive\n",
        "\n",
        "!pip uninstall gdown -y && pip install gdown\n",
        "!gdown -V\n",
        "\n",
        "!gdown --folder https://drive.google.com/drive/folders/1gmQrgtCoW8uprlt7pgwzkIxSoEReGgYo?usp=share_link -O /content\n"
      ],
      "metadata": {
        "colab": {
          "base_uri": "https://localhost:8080/"
        },
        "id": "2zZfXkuZI-XB",
        "outputId": "7518cf4e-9fa5-4302-91fc-5af63493bc6c"
      },
      "execution_count": null,
      "outputs": [
        {
          "output_type": "stream",
          "name": "stdout",
          "text": [
            "Found existing installation: gdown 4.6.6\n",
            "Uninstalling gdown-4.6.6:\n",
            "  Successfully uninstalled gdown-4.6.6\n",
            "Looking in indexes: https://pypi.org/simple, https://us-python.pkg.dev/colab-wheels/public/simple/\n",
            "Collecting gdown\n",
            "  Downloading gdown-4.7.1-py3-none-any.whl (15 kB)\n",
            "Requirement already satisfied: tqdm in /usr/local/lib/python3.9/dist-packages (from gdown) (4.65.0)\n",
            "Requirement already satisfied: requests[socks] in /usr/local/lib/python3.9/dist-packages (from gdown) (2.27.1)\n",
            "Requirement already satisfied: six in /usr/local/lib/python3.9/dist-packages (from gdown) (1.16.0)\n",
            "Requirement already satisfied: filelock in /usr/local/lib/python3.9/dist-packages (from gdown) (3.10.7)\n",
            "Requirement already satisfied: beautifulsoup4 in /usr/local/lib/python3.9/dist-packages (from gdown) (4.11.2)\n",
            "Requirement already satisfied: soupsieve>1.2 in /usr/local/lib/python3.9/dist-packages (from beautifulsoup4->gdown) (2.4)\n",
            "Requirement already satisfied: urllib3<1.27,>=1.21.1 in /usr/local/lib/python3.9/dist-packages (from requests[socks]->gdown) (1.26.15)\n",
            "Requirement already satisfied: idna<4,>=2.5 in /usr/local/lib/python3.9/dist-packages (from requests[socks]->gdown) (3.4)\n",
            "Requirement already satisfied: charset-normalizer~=2.0.0 in /usr/local/lib/python3.9/dist-packages (from requests[socks]->gdown) (2.0.12)\n",
            "Requirement already satisfied: certifi>=2017.4.17 in /usr/local/lib/python3.9/dist-packages (from requests[socks]->gdown) (2022.12.7)\n",
            "Requirement already satisfied: PySocks!=1.5.7,>=1.5.6 in /usr/local/lib/python3.9/dist-packages (from requests[socks]->gdown) (1.7.1)\n",
            "Installing collected packages: gdown\n",
            "Successfully installed gdown-4.7.1\n",
            "gdown 4.7.1 at /usr/local/lib/python3.9/dist-packages\n",
            "Retrieving folder list\n",
            "Processing file 13s3vsidbiBHSmRuLXk2MZsGXyOdb-oAA f_data2.ob\n",
            "Retrieving folder list completed\n",
            "Building directory structure\n",
            "Building directory structure completed\n",
            "Downloading...\n",
            "From (uriginal): https://drive.google.com/uc?id=13s3vsidbiBHSmRuLXk2MZsGXyOdb-oAA\n",
            "From (redirected): https://drive.google.com/uc?id=13s3vsidbiBHSmRuLXk2MZsGXyOdb-oAA&confirm=t&uuid=d4c756ed-d8f4-4d91-83ec-dbfb86eee312\n",
            "To: /content/f_data2.ob\n",
            "100% 299M/299M [00:01<00:00, 157MB/s]\n",
            "Download completed\n"
          ]
        }
      ]
    },
    {
      "cell_type": "code",
      "source": [
        "# Load library and plot functions\n",
        "\n",
        "from sklearn.model_selection import cross_val_score, KFold\n",
        "from sklearn.metrics import balanced_accuracy_score\n",
        "from sklearn.metrics import classification_report\n",
        "from sklearn.metrics import matthews_corrcoef\n",
        "from sklearn.metrics import confusion_matrix, mean_squared_error\n",
        "from sklearn.decomposition import FastICA\n",
        "from sklearn.discriminant_analysis import LinearDiscriminantAnalysis\n",
        "from sklearn.decomposition import PCA\n",
        "from sklearn.model_selection import train_test_split\n",
        "from sklearn.tree import DecisionTreeClassifier\n",
        "import xgboost as xgb\n",
        "from sklearn.ensemble import AdaBoostClassifier\n",
        "from sklearn.ensemble import BaggingClassifier\n",
        "from sklearn.ensemble import RandomForestClassifier\n",
        "from sklearn.svm import SVC\n",
        "from sklearn.dummy import DummyClassifier\n",
        "from sklearn.metrics import accuracy_score\n",
        "from mlxtend.plotting import plot_decision_regions\n",
        "from sklearn.metrics import precision_recall_fscore_support\n",
        "from time import time\n",
        "import seaborn as sns\n",
        "import matplotlib.pyplot as plt\n",
        "\n",
        "def plt_res(y_test, y_pred,ttl):\n",
        "\n",
        "  #Generate the confusion matrix\n",
        "  cf_matrix = confusion_matrix(y_test, y_pred)\n",
        "\n",
        "  group_names = ['True Neg','False Pos','False Neg','True Pos']\n",
        "\n",
        "  group_counts = [\"{0:0.0f}\".format(value) for value in\n",
        "                cf_matrix.flatten()]\n",
        "\n",
        "  group_percentages = [\"{0:.2%}\".format(value) for value in\n",
        "                     cf_matrix.flatten()/np.sum(cf_matrix)]\n",
        "\n",
        "  labels = [f\"{v1}\\n{v2}\\n{v3}\" for v1, v2, v3 in\n",
        "          zip(group_names,group_counts,group_percentages)]\n",
        "\n",
        "  labels = np.asarray(labels).reshape(2,2)\n",
        "\n",
        "  ax = sns.heatmap(cf_matrix, annot=labels, fmt='', cmap='Blues')\n",
        "\n",
        "  ax.set_title(ttl);\n",
        "  ax.set_xlabel('\\nPredicted Values')\n",
        "  ax.set_ylabel('Actual Values ');\n",
        "\n",
        "  ## Ticket labels - List must be in alphabetical order\n",
        "  ax.xaxis.set_ticklabels(['False','True'])\n",
        "  ax.yaxis.set_ticklabels(['False','True'])\n",
        "\n",
        "  ## Display the visualization of the Confusion Matrix.\n",
        "  plt.show()\n",
        "\n",
        "\n",
        "\n",
        "# Summarize history for accuracy\n",
        "\n",
        "def acc_plt(history):\n",
        "  plt.plot(history.history['accuracy'])\n",
        "  plt.plot(history.history['val_accuracy'])\n",
        "  plt.title('Model accuracy')\n",
        "  plt.ylabel('Accuracy')\n",
        "  plt.xlabel('Epoch')\n",
        "  plt.legend(['Train', 'Test'], loc='upper left')\n",
        "  plt.show()\n",
        "\n",
        "\n",
        "\n",
        "# Summarize history for loss\n",
        "\n",
        "def loss_plt(history):\n",
        "\n",
        "  plt.plot(history.history['loss'])\n",
        "  plt.plot(history.history['val_loss'])\n",
        "  plt.title('Model loss')\n",
        "  plt.ylabel('Loss')\n",
        "  plt.xlabel('Epoch')\n",
        "  plt.legend(['Train', 'Test'], loc='upper left')\n",
        "  plt.show()"
      ],
      "metadata": {
        "id": "6V3YQW_KcDlZ"
      },
      "execution_count": null,
      "outputs": []
    },
    {
      "cell_type": "code",
      "execution_count": null,
      "metadata": {
        "colab": {
          "base_uri": "https://localhost:8080/"
        },
        "id": "m0Wyg2NU7DKM",
        "outputId": "7d86c932-10cb-4b5e-f352-92d4742a1088"
      },
      "outputs": [
        {
          "output_type": "stream",
          "name": "stdout",
          "text": [
            "Length of dataset list:  1620\n",
            "Number of Peaks sequnces =  253\n",
            "Number of noPeaks sequnces =  287\n",
            "Sum of length of sequences with noPeaks label: 11590675\n",
            "Sum of length of sequences with peaks label: 4122705\n",
            "Number of Peaks sequnces =  2835\n",
            "Number of noPeaks sequnces =  2979\n",
            "Data array shape =  (5814, 4001)\n",
            "Label array shape =  (5814,)\n"
          ]
        }
      ],
      "source": [
        "# Load decoded dataset\n",
        "\n",
        "# Data structure is like: [chromosom, sequence, label, chromosome, sequence, label,..., chromosome, sequence, label]\n",
        "\n",
        "import numpy as np\n",
        "import pickle\n",
        "\n",
        "with open ('/content/f_data2.ob', 'rb') as fp:\n",
        "    lst_data = pickle.load(fp)\n",
        "\n",
        "print(\"Length of dataset list: \",len(lst_data))\n",
        "\n",
        "# Number of Peak and NoPeaks sequences before using sliding windows technique\n",
        "\n",
        "count_nopeaks = sum(1 for i in lst_data if i == \"noPeaks\")\n",
        "\n",
        "print(\"Number of Peaks sequnces = \" , 540-count_nopeaks)\n",
        "print(\"Number of noPeaks sequnces = \" , count_nopeaks)\n",
        "\n",
        "\n",
        "# Total length of NoPeaks and Peaks sequences\n",
        "\n",
        "nopeaks_length = 0\n",
        "peaks_length = 0\n",
        "for i in range(0, len(lst_data), 3):\n",
        "    if lst_data[i+2] == \"noPeaks\":\n",
        "        nopeaks_length += len(lst_data[i+1])\n",
        "    else:\n",
        "        peaks_length += len(lst_data[i+1])\n",
        "\n",
        "print(\"Sum of length of sequences with noPeaks label:\", nopeaks_length)\n",
        "print(\"Sum of length of sequences with peaks label:\", peaks_length)\n",
        "\n",
        "\n",
        "# Specify window size, shift size and pick more\n",
        "\n",
        "win_size = 4001 #@param {type:\"slider\", min:1000, max:10001, step:500}\n",
        "\n",
        "shift_size = 500 #@param {type:\"slider\", min:50, max:3000, step:50}\n",
        "\n",
        "# Pick more for each side of a sequence\n",
        "pick_more = 1500 #@param {type:\"slider\", min:0, max:5000, step:500}\n",
        "\n",
        "\n",
        "# Extract sequences based on window size and shift size and pick more from the decoded dataset\n",
        "\n",
        "seq_size = 0\n",
        "for i in range (1,len(lst_data),3):\n",
        "  seq_size =len(lst_data[i]) - 10000\n",
        "  lst_data[i] = lst_data[i][5000-pick_more:5000+seq_size+pick_more]\n",
        "\n",
        "\n",
        "lst_train = []\n",
        "lst_lbl = []\n",
        "nu_pseq = 0\n",
        "nu_npseq = 0\n",
        "\n",
        "for i in range(1,len(lst_data),3): # Go through all sequences\n",
        "  s_point = 0\n",
        "  if lst_data[i+1] == \"noPeaks\":\n",
        "    while (s_point+win_size<=len(lst_data[i])): # Selection of sequences with window size\n",
        "      lst_train.append(lst_data[i][s_point:s_point+win_size])\n",
        "      s_point = s_point + (shift_size*6)\n",
        "      lst_lbl.append(0)\n",
        "      nu_npseq+=1\n",
        "\n",
        "  else:\n",
        "      while (s_point+win_size<=len(lst_data[i])):\n",
        "        lst_train.append(lst_data[i][s_point:s_point+win_size])\n",
        "        s_point+=shift_size\n",
        "        lst_lbl.append(1)\n",
        "        nu_pseq+=1\n",
        "      \n",
        "\n",
        "print(\"Number of Peaks sequnces = \" , nu_pseq)\n",
        "print(\"Number of noPeaks sequnces = \" , nu_npseq)\n",
        "\n",
        "\n",
        "# Convert lists to arrays\n",
        "\n",
        "global train_data\n",
        "global train_label\n",
        "\n",
        "train_data = np.array(lst_train).astype('float32')\n",
        "train_label = np.array(lst_lbl).astype('float32')\n",
        "\n",
        "print('Data array shape = ', train_data.shape)\n",
        "print('Label array shape = ', train_label.shape)"
      ]
    },
    {
      "cell_type": "markdown",
      "source": [
        "# Select a Feature Reduction method"
      ],
      "metadata": {
        "id": "a2MeeKzKOPe0"
      }
    },
    {
      "cell_type": "code",
      "source": [
        "# Feature reduction (avg and max)\n",
        "\n",
        "def avg_max():\n",
        "  global train_data, train_label\n",
        "  fe_se = np.zeros((train_data.shape[0],2), dtype=float)\n",
        "  av = np.average(train_data,axis=1)\n",
        "  mx = train_data.max(axis=1)\n",
        "\n",
        "  for i in range (0,train_data.shape[0]):\n",
        "    fe_se[i][0] = av[i]\n",
        "    fe_se[i][1] = mx[i]\n",
        "\n",
        "  train_data = fe_se\n",
        "  print('Data shape after feature reduction: ',train_data.shape)\n",
        "\n",
        "\n",
        "# Feature reduction with PCA\n",
        "\n",
        "def pca_2():\n",
        "  global train_data, train_label\n",
        "  pca1 = PCA(n_components=2)\n",
        "  train_data = pca1.fit_transform(train_data)\n",
        "  print('Data shape after feature reduction: ', train_data.shape)\n",
        "\n",
        "def pca_3():\n",
        "  global train_data, train_label\n",
        "  pca1 = PCA(n_components=3)\n",
        "  train_data = pca1.fit_transform(train_data)\n",
        "  print('Data shape after feature reduction: ', train_data.shape)\n",
        "\n",
        "\n",
        "# Feature reduction Independent Component Analysis (ICA)\n",
        "\n",
        "def ica_2():\n",
        "  global train_data, train_label\n",
        "  ica1 = FastICA(n_components=2)\n",
        "  train_data = ica1.fit_transform(train_data)\n",
        "  print('Data shape after feature reduction: ', train_data.shape)\n",
        "\n",
        "def ica_3():\n",
        "  global train_data, train_label\n",
        "  ica1 = FastICA(n_components=3)\n",
        "  train_data = ica1.fit_transform(train_data)\n",
        "  print('Data shape after feature reduction: ', train_data.shape)\n",
        "\n",
        "\n",
        "# Feature reduction Linear Discriminant Analysis (LDA)\n",
        "\n",
        "def lda():\n",
        "  global train_data, train_label\n",
        "  lda = LinearDiscriminantAnalysis(n_components=1)\n",
        "  train_data = lda.fit(train_data, train_label).transform(train_data)\n",
        "  print('Data shape after feature reduction: ', train_data.shape)\n",
        "\n",
        "\n",
        "# Feature reduction (Mean and PTP and STD)\n",
        "\n",
        "def mean_ptp_std():\n",
        "  global train_data, train_label\n",
        "  fe_se = np.zeros((train_data.shape[0],3), dtype=float)\n",
        "  mean_seq = np.mean(train_data,axis=1)\n",
        "  ptp_seq = np.ptp(train_data,axis=1)\n",
        "  std_seq = np.std(train_data,axis=1)\n",
        "\n",
        "  for i in range (0,train_data.shape[0]):\n",
        "    fe_se[i][0] = mean_seq[i]\n",
        "    fe_se[i][1] = ptp_seq[i]\n",
        "    fe_se[i][2] = std_seq[i]\n",
        "\n",
        "  train_data = fe_se\n",
        "  print('Data shape after feature reduction: ', train_data.shape)\n",
        "\n",
        "def raw_sequence():\n",
        "  pass\n",
        "\n",
        "# get the selected option\n",
        "fr_method = \"LDA\" #@param [\"Raw sequence\", \"PCA with 2 components\", \"PCA with 3 components\", \"ICA with 2 components\", \"ICA with 3 components\", \"LDA\", \"avg and max\", \"Mean and PTP and STD\"]\n",
        "\n",
        "\n",
        "# create a dictionary to map options to functions\n",
        "options = {\n",
        "    \"Raw sequence\": raw_sequence,\n",
        "    \"PCA with 2 components\": pca_2,\n",
        "    \"PCA with 3 components\": pca_3,\n",
        "    \"ICA with 2 components\": ica_2,\n",
        "    \"ICA with 3 components\": ica_3,\n",
        "    \"LDA\": lda,\n",
        "    \"avg and max\": avg_max,\n",
        "    \"Mean and PTP and STD\": mean_ptp_std\n",
        "}\n",
        "\n",
        "# call the function for the selected option\n",
        "options[fr_method]()\n",
        "\n",
        "\n",
        "# Split data for training and testing models\n",
        "\n",
        "x_train, x_test, y_train, y_test = train_test_split(train_data, train_label, test_size=0.3, random_state = 777)\n",
        "\n",
        "print('x_train array shape = ' , x_train.shape)\n",
        "print('x_test array shape = ' , x_test.shape)\n",
        "print('y_train array shape = ' , y_train.shape)\n",
        "print('y_test array shape = ' , y_test.shape)"
      ],
      "metadata": {
        "colab": {
          "base_uri": "https://localhost:8080/"
        },
        "id": "YqCm5fv_YX-K",
        "outputId": "5404bea6-ad22-4a3c-d87d-d32e623c440b"
      },
      "execution_count": null,
      "outputs": [
        {
          "output_type": "stream",
          "name": "stdout",
          "text": [
            "Data shape after feature reduction:  (5814, 1)\n",
            "x_train array shape =  (4069, 1)\n",
            "x_test array shape =  (1745, 1)\n",
            "y_train array shape =  (4069,)\n",
            "y_test array shape =  (1745,)\n"
          ]
        }
      ]
    },
    {
      "cell_type": "markdown",
      "metadata": {
        "id": "FW3xAuXgToDK"
      },
      "source": [
        "# ML algorithms and Evaluations"
      ]
    },
    {
      "cell_type": "code",
      "source": [
        "# Select a machine learning model\n",
        "ml_model = \"Support Vector Machine\" #@param [\"Decision tree\", \"XGBoost\", \"AdaBoost\", \"Bagging\", \"Random Forest\", \"Support Vector Machine\", \"DummyClassifier\"]\n",
        "\n",
        "\n",
        "if ml_model == \"Decision tree\":\n",
        "    model = DecisionTreeClassifier()\n",
        "elif ml_model == \"XGBoost\":\n",
        "    model = xgb.XGBClassifier(objective=\"binary:logistic\")\n",
        "elif ml_model == \"AdaBoost\":\n",
        "    model = AdaBoostClassifier()\n",
        "elif ml_model == \"Bagging\":\n",
        "    model = BaggingClassifier()\n",
        "elif ml_model == \"Random Forest\":\n",
        "    model = RandomForestClassifier()\n",
        "elif ml_model == \"Support Vector Machine\":\n",
        "    model = SVC()\n",
        "elif ml_model == \"DummyClassifier\":\n",
        "    model = DummyClassifier(strategy=\"most_frequent\")\n",
        "\n",
        "\n",
        "# Train selected model\n",
        "t0 = time()\n",
        "kfold = KFold(n_splits=5, shuffle=False, random_state=None)\n",
        "scores = []\n",
        "acc_lst = []\n",
        "for train_index, test_index in kfold.split(x_train):   \n",
        "    xx_train, xx_test = x_train[train_index], x_train[test_index]\n",
        "    yy_train, yy_test = y_train[train_index], y_train[test_index]\n",
        "    model.fit(xx_train, yy_train)\n",
        "    y_pred_other = model.predict(xx_test)\n",
        "    acc_lst.append((round(accuracy_score(yy_test, y_pred_other),4))*100)\n",
        "\n",
        "print('Training time = ', time()-t0) \n",
        "#display_scores(np.sqrt(scores))\n",
        "print('5-fold accuracy',acc_lst)\n",
        "y_pred_other = model.predict(x_test)\n",
        "\n",
        "\n",
        "# Accuracy\n",
        "print(\"Accuracy = \", round(accuracy_score(y_test, y_pred_other),4)*100,\"\\n\")\n",
        "\n",
        "# Precision, recall, F-measure\n",
        "print(\"\\n\\n precision_recall_f1-score = \", precision_recall_fscore_support(y_test, y_pred_other,average='macro'),\"\\n\")\n",
        "\n",
        "# Balanced Accuracy\n",
        "print(\"Balanced accuracy\",round(balanced_accuracy_score(y_test, y_pred_other),4)*100,\"\\n\")\n",
        "\n",
        "# Matthews Correlation Coefficient\n",
        "print(\"MCC = \", round(matthews_corrcoef(y_test, y_pred_other),4)*100,\"\\n\")\n",
        "\n",
        "plt_res(y_test, y_pred_other,\"Selected model Confusion matrix\\n\\n\")"
      ],
      "metadata": {
        "colab": {
          "base_uri": "https://localhost:8080/",
          "height": 738
        },
        "id": "2UVBSmVmrawm",
        "outputId": "bfec4fbd-fd56-46c5-e7a5-8ee842552d95"
      },
      "execution_count": null,
      "outputs": [
        {
          "output_type": "stream",
          "name": "stdout",
          "text": [
            "Training time =  0.2458348274230957\n",
            "5-fold accuracy [97.17, 97.42, 95.58, 96.67999999999999, 95.94]\n",
            "Accuracy =  96.45 \n",
            "\n",
            "\n",
            "\n",
            " precision_recall_f1-score =  (0.9648890644545394, 0.9641519951200017, 0.9644174579745151, None) \n",
            "\n",
            "Balanced accuracy 96.41999999999999 \n",
            "\n",
            "MCC =  92.9 \n",
            "\n"
          ]
        },
        {
          "output_type": "display_data",
          "data": {
            "text/plain": [
              "<Figure size 640x480 with 2 Axes>"
            ],
            "image/png": "[encoded data removed]"
          },
          "metadata": {}
        }
      ]
    }
  ],
  "metadata": {
    "colab": {
      "machine_shape": "hm",
      "provenance": [],
      "collapsed_sections": [
        "uv3yY7YEAHRV",
        "UedRhO3-fdqo",
        "RfZvMyyqHISf",
        "tiWiiUBnaj0Q"
      ],
      "authorship_tag": "ABX9TyPILl8J9B6XeqocwUgTSLck",
      "include_colab_link": true
    },
    "gpuClass": "standard",
    "kernelspec": {
      "display_name": "Python 3",
      "name": "python3"
    }
  },
  "nbformat": 4,
  "nbformat_minor": 0
}